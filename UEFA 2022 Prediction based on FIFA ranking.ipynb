{
 "cells": [
  {
   "cell_type": "code",
   "execution_count": 1,
   "id": "16a6fec5",
   "metadata": {},
   "outputs": [],
   "source": [
    "import random as rnd\n",
    "class Team:\n",
    "    LUCK = 0.0\n",
    "    def __init__(self, name, strength = None):\n",
    "        self.name = name\n",
    "        self.strength = strength if strength else rnd.uniform(0,1)\n",
    "    def __str__(self):\n",
    "        return self.name\n",
    "    def __repr__(self):\n",
    "        return self.name\n",
    "    def __lt__(self, t):\n",
    "        return self.strength < t.strength + rnd.gauss(0, Team.LUCK)"
   ]
  },
  {
   "cell_type": "code",
   "execution_count": 2,
   "id": "841d39da",
   "metadata": {},
   "outputs": [],
   "source": [
    "teams_data = [[(\"Italy\", 6), (\"Wales\", 20), (\"Switzerland\", 14), (\"Turkey\", 39)], [(\"Belgium\", 1), (\"Denmark\", 9), (\"Finland\", 58), (\"Russia\", 35)], [(\"Netherlands\", 10), (\"Austria\", 30), (\"Ukraine\", 27), (\"North Macedonia\", 67)], [(\"England\", 5), (\"Croatia\", 15), (\"Czech Republic\", 31), (\"Scotland\", 40)], [(\"Sweden\", 17), (\"Spain\", 7), (\"Slovakia\", 46), (\"Poland\", 28)], [(\"France\", 3), (\"Germany\", 11), (\"Portugal\", 8), (\"Hungary\", 41)]]"
   ]
  },
  {
   "cell_type": "code",
   "execution_count": 3,
   "id": "56711906",
   "metadata": {},
   "outputs": [],
   "source": [
    "ratings = sum([[rating for _,rating in group_data] \n",
    "               for group_data in teams_data], [])\n",
    "smallest = min(ratings)\n",
    "largest = max(ratings)\n",
    "teams = [[Team(name, 1 - (rating - smallest) / (largest - smallest))\n",
    "         for name,rating in group_data] for group_data in teams_data]"
   ]
  },
  {
   "cell_type": "code",
   "execution_count": 4,
   "id": "216509b0",
   "metadata": {},
   "outputs": [],
   "source": [
    "ratings = sum([[rating for _,rating in group_data] \n",
    "               for group_data in teams_data], [])\n",
    "smallest = min(ratings)\n",
    "largest = max(ratings)\n",
    "teams = [[Team(name, 1 - (rating - smallest) / (largest - smallest))\n",
    "         for name,rating in group_data] for group_data in teams_data]"
   ]
  },
  {
   "cell_type": "code",
   "execution_count": 5,
   "id": "54be7829",
   "metadata": {},
   "outputs": [],
   "source": [
    "after_groups = [sorted(group, reverse=True) for group in teams]\n",
    "third_placers = sorted([g[2] for g in after_groups], reverse=True)[:4]\n",
    "winners = sum([g[:2] for g in after_groups], [])\n",
    "teams16 = winners + third_placers"
   ]
  },
  {
   "cell_type": "code",
   "execution_count": 6,
   "id": "9fe3ef42",
   "metadata": {},
   "outputs": [],
   "source": [
    "rnd.shuffle(teams16)\n",
    "pairs16 = zip(teams16[::2], teams16[1::2])"
   ]
  },
  {
   "cell_type": "code",
   "execution_count": 7,
   "id": "ea6f0b67",
   "metadata": {},
   "outputs": [],
   "source": [
    "teams8 = [sorted(g, reverse=True)[0] for g in pairs16]\n",
    "pairs8 = zip(teams8[::2], teams8[1::2])\n",
    "teams4 = [sorted(g, reverse=True)[0] for g in pairs8]\n",
    "pairs4 = zip(teams4[::2], teams4[1::2])"
   ]
  },
  {
   "cell_type": "code",
   "execution_count": 8,
   "id": "241ece48",
   "metadata": {},
   "outputs": [],
   "source": [
    "teams2 = [sorted(g, reverse=True) for g in pairs4]\n",
    "first, second = sorted([teams2[0][0], teams2[1][0]], reverse=True)\n",
    "third, _      = sorted([teams2[0][1], teams2[1][1]], reverse=True)"
   ]
  },
  {
   "cell_type": "code",
   "execution_count": 9,
   "id": "95b7fe61",
   "metadata": {},
   "outputs": [
    {
     "data": {
      "text/plain": [
       "[Denmark,\n",
       " Italy,\n",
       " Germany,\n",
       " Netherlands,\n",
       " France,\n",
       " Portugal,\n",
       " England,\n",
       " Wales,\n",
       " Poland,\n",
       " Austria,\n",
       " Croatia,\n",
       " Sweden,\n",
       " Spain,\n",
       " Switzerland,\n",
       " Belgium,\n",
       " Ukraine]"
      ]
     },
     "execution_count": 9,
     "metadata": {},
     "output_type": "execute_result"
    }
   ],
   "source": [
    "teams16"
   ]
  },
  {
   "cell_type": "code",
   "execution_count": 10,
   "id": "06e47602",
   "metadata": {},
   "outputs": [
    {
     "data": {
      "text/plain": [
       "[Italy, Netherlands, France, England, Poland, Croatia, Spain, Belgium]"
      ]
     },
     "execution_count": 10,
     "metadata": {},
     "output_type": "execute_result"
    }
   ],
   "source": [
    "teams8"
   ]
  },
  {
   "cell_type": "code",
   "execution_count": 11,
   "id": "640c5171",
   "metadata": {},
   "outputs": [
    {
     "data": {
      "text/plain": [
       "[Italy, France, Croatia, Belgium]"
      ]
     },
     "execution_count": 11,
     "metadata": {},
     "output_type": "execute_result"
    }
   ],
   "source": [
    "teams4"
   ]
  },
  {
   "cell_type": "code",
   "execution_count": 12,
   "id": "36186602",
   "metadata": {},
   "outputs": [
    {
     "data": {
      "text/plain": [
       "Croatia"
      ]
     },
     "execution_count": 12,
     "metadata": {},
     "output_type": "execute_result"
    }
   ],
   "source": [
    "_"
   ]
  },
  {
   "cell_type": "code",
   "execution_count": 13,
   "id": "92ad7cad",
   "metadata": {},
   "outputs": [
    {
     "data": {
      "text/plain": [
       "Italy"
      ]
     },
     "execution_count": 13,
     "metadata": {},
     "output_type": "execute_result"
    }
   ],
   "source": [
    "third"
   ]
  },
  {
   "cell_type": "code",
   "execution_count": 14,
   "id": "29d12335",
   "metadata": {},
   "outputs": [
    {
     "data": {
      "text/plain": [
       "France"
      ]
     },
     "execution_count": 14,
     "metadata": {},
     "output_type": "execute_result"
    }
   ],
   "source": [
    "second"
   ]
  },
  {
   "cell_type": "code",
   "execution_count": 15,
   "id": "4f7e09d7",
   "metadata": {},
   "outputs": [
    {
     "data": {
      "text/plain": [
       "Belgium"
      ]
     },
     "execution_count": 15,
     "metadata": {},
     "output_type": "execute_result"
    }
   ],
   "source": [
    "first"
   ]
  },
  {
   "cell_type": "code",
   "execution_count": null,
   "id": "57c4dd8d",
   "metadata": {},
   "outputs": [],
   "source": []
  }
 ],
 "metadata": {
  "kernelspec": {
   "display_name": "Python 3",
   "language": "python",
   "name": "python3"
  },
  "language_info": {
   "codemirror_mode": {
    "name": "ipython",
    "version": 3
   },
   "file_extension": ".py",
   "mimetype": "text/x-python",
   "name": "python",
   "nbconvert_exporter": "python",
   "pygments_lexer": "ipython3",
   "version": "3.8.8"
  }
 },
 "nbformat": 4,
 "nbformat_minor": 5
}
